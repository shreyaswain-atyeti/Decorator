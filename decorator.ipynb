{
 "cells": [
  {
   "cell_type": "markdown",
   "id": "a3bbbf3e-8854-4a4c-8abc-a3a187b6c5e6",
   "metadata": {},
   "source": [
    "1. Decorators and closures are closely related because decorators typically use closures to modify or extend the behavior of a function or method. A closure is a function that retains access to variables in its enclosing scope even after that scope has exited.\n",
    "Decorator relies on closures because it wraps a function with another function that has access to variables defined in the decorator's scope.\n",
    "\n",
    "We implement a decorator without using closures. Instead of using closures, you can use a class. In this approach, the class's __call__ method is used to act like a wrapper around the function.\n",
    "\n"
   ]
  },
  {
   "cell_type": "code",
   "execution_count": 1,
   "id": "f3026cb2-051c-4658-909f-e2857579556f",
   "metadata": {},
   "outputs": [
    {
     "name": "stdout",
     "output_type": "stream",
     "text": [
      "Function is about to execute.\n",
      "Hello, Shreya!\n",
      "Function execution finished.\n"
     ]
    }
   ],
   "source": [
    "class SimpleDecorator:\n",
    "    def __init__(self, func):\n",
    "        self.func = func  # We store the function to be decorated\n",
    "\n",
    "    def __call__(self, *args, **kwargs):\n",
    "        print(\"Function is about to execute.\")\n",
    "        result = self.func(*args, **kwargs)\n",
    "        print(\"Function execution finished.\")\n",
    "        return result\n",
    "\n",
    "@SimpleDecorator\n",
    "def greet(name):\n",
    "    print(f\"Hello, {name}!\")\n",
    "\n",
    "greet(\"Shreya\")\n",
    "\n"
   ]
  },
  {
   "cell_type": "markdown",
   "id": "3fab42d0-bca2-4a68-9258-e25389615209",
   "metadata": {},
   "source": [
    "2. Parameterized decorator is one that takes arguments. It can be implemented by wrapping the decorator function in another function that accepts the parameters."
   ]
  },
  {
   "cell_type": "code",
   "execution_count": 2,
   "id": "ce71d095-5a94-4c0b-aaae-a41a36921a8b",
   "metadata": {},
   "outputs": [
    {
     "name": "stdout",
     "output_type": "stream",
     "text": [
      "Execution 1:\n",
      "Hello, Shreya!\n",
      "Execution 2:\n",
      "Hello, Shreya!\n",
      "Execution 3:\n",
      "Hello, Shreya!\n"
     ]
    }
   ],
   "source": [
    "def repeat_decorator(times):\n",
    "    def decorator(func):\n",
    "        def wrapper(*args, **kwargs):\n",
    "            for i in range(times):\n",
    "                print(f\"Execution {i + 1}:\")\n",
    "                func(*args, **kwargs)\n",
    "        return wrapper\n",
    "    return decorator\n",
    "\n",
    "@repeat_decorator(3)\n",
    "def say_hello(name):\n",
    "    print(f\"Hello, {name}!\")\n",
    "\n",
    "# Testing the function\n",
    "say_hello(\"Shreya\")\n"
   ]
  },
  {
   "cell_type": "code",
   "execution_count": 3,
   "id": "89c17880-4002-4d9e-a7ac-58d44244ac2f",
   "metadata": {},
   "outputs": [
    {
     "name": "stdout",
     "output_type": "stream",
     "text": [
      "Executing function greet\n",
      "Hello, Shreya!\n",
      "Finished executing greet\n"
     ]
    }
   ],
   "source": [
    " # 3.simple decorator that prints the execution of a function.\n",
    "\n",
    "def print_execution(func):\n",
    "    def wrapper(*args, **kwargs):\n",
    "        print(f\"Executing function {func.__name__}\")\n",
    "        result = func(*args, **kwargs)\n",
    "        print(f\"Finished executing {func.__name__}\")\n",
    "        return result\n",
    "    return wrapper\n",
    "\n",
    "@print_execution\n",
    "def greet(name):\n",
    "    print(f\"Hello, {name}!\")\n",
    "\n",
    "greet(\"Shreya\")\n"
   ]
  },
  {
   "cell_type": "code",
   "execution_count": 4,
   "id": "061aea09-b337-4a32-bcf1-261a2e9779db",
   "metadata": {},
   "outputs": [
    {
     "name": "stdout",
     "output_type": "stream",
     "text": [
      "say_hello has been called 1 times\n",
      "Hello!\n",
      "say_hello has been called 2 times\n",
      "Hello!\n",
      "say_hello has been called 3 times\n",
      "Hello!\n"
     ]
    }
   ],
   "source": [
    "#4. decorator to count the no of function calls\n",
    "\n",
    "def call_counter(func):\n",
    "    def wrapper(*args, **kwargs):\n",
    "        wrapper.calls += 1\n",
    "        print(f\"{func.__name__} has been called {wrapper.calls} times\")\n",
    "        return func(*args, **kwargs)\n",
    "    wrapper.calls = 0\n",
    "    return wrapper\n",
    "\n",
    "@call_counter\n",
    "def say_hello():\n",
    "    print(\"Hello!\")\n",
    "\n",
    "say_hello()\n",
    "say_hello()\n",
    "say_hello()\n"
   ]
  },
  {
   "cell_type": "code",
   "execution_count": 5,
   "id": "2ead5c1a-3782-44fa-b447-f4ba1ed75ffc",
   "metadata": {},
   "outputs": [
    {
     "name": "stdout",
     "output_type": "stream",
     "text": [
      "14\n"
     ]
    }
   ],
   "source": [
    "#5.\n",
    "def double_result(func):\n",
    "    def wrapper(*args, **kwargs):\n",
    "        result = func(*args, **kwargs)\n",
    "        return result * 2\n",
    "    return wrapper\n",
    "\n",
    "@double_result\n",
    "def add(a, b):\n",
    "    return a + b\n",
    "\n",
    "print(add(3, 4))  # Output should be 14\n"
   ]
  },
  {
   "cell_type": "markdown",
   "id": "f8a13848-5dca-4f03-9824-4db57e1583c1",
   "metadata": {},
   "source": [
    "#6. When multiple decorators are applied, they are executed from the inside out. The innermost decorator wraps the function first, and then the outer decorators wrap the result of the inner one."
   ]
  },
  {
   "cell_type": "code",
   "execution_count": 6,
   "id": "8662b492-b6c8-49d7-9154-42e085e1d977",
   "metadata": {},
   "outputs": [
    {
     "name": "stdout",
     "output_type": "stream",
     "text": [
      "Decorator One\n",
      "Decorator Two\n",
      "Hello!\n"
     ]
    }
   ],
   "source": [
    "#6.\n",
    "\n",
    "def decorator_one(func):\n",
    "    def wrapper(*args, **kwargs):\n",
    "        print(\"Decorator One\")\n",
    "        return func(*args, **kwargs)\n",
    "    return wrapper\n",
    "\n",
    "def decorator_two(func):\n",
    "    def wrapper(*args, **kwargs):\n",
    "        print(\"Decorator Two\")\n",
    "        return func(*args, **kwargs)\n",
    "    return wrapper\n",
    "\n",
    "@decorator_one\n",
    "@decorator_two\n",
    "def greet():\n",
    "    print(\"Hello!\")\n",
    "\n",
    "greet()\n"
   ]
  },
  {
   "cell_type": "markdown",
   "id": "944d1f45-cd04-472e-9a81-d5d512c347ce",
   "metadata": {},
   "source": [
    "7. Decorators are incredibly useful in Python for adding functionality to functions in a clean and reusable way. For instance, they are often used for logging, where they automatically track and record information about function calls, like inputs and outputs. They’re also great for access control, ensuring only authorized users can execute certain functions, such as verifying login status before accessing a secure page.\n",
    "Another common use is caching, where a decorator stores the result of a function so it can be reused without recalculating. Decorators can also handle retry logic, re-executing a function a set number of times if it fails. "
   ]
  },
  {
   "cell_type": "code",
   "execution_count": null,
   "id": "d0487fb2-34d3-47a3-aa81-c28d554555a2",
   "metadata": {},
   "outputs": [],
   "source": []
  }
 ],
 "metadata": {
  "kernelspec": {
   "display_name": "Python 3 (ipykernel)",
   "language": "python",
   "name": "python3"
  },
  "language_info": {
   "codemirror_mode": {
    "name": "ipython",
    "version": 3
   },
   "file_extension": ".py",
   "mimetype": "text/x-python",
   "name": "python",
   "nbconvert_exporter": "python",
   "pygments_lexer": "ipython3",
   "version": "3.13.0"
  }
 },
 "nbformat": 4,
 "nbformat_minor": 5
}
